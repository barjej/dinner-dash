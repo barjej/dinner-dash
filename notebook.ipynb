{
 "cells": [
  {
   "cell_type": "code",
   "execution_count": 1,
   "metadata": {},
   "outputs": [],
   "source": [
    "import pandas as pd"
   ]
  },
  {
   "cell_type": "code",
   "execution_count": 2,
   "metadata": {},
   "outputs": [],
   "source": [
    "df = pd.read_csv('https://docs.google.com/spreadsheets/d/e/2PACX-1vQMqC_6fkaH6oZweJDIIYFDdE9o3P3G1hB0OKLzkGGf0pB-FjWJoAMoYca2iXV2ID5dE7hoklCSx6hE/pub?gid=0&single=true&output=csv')"
   ]
  },
  {
   "cell_type": "code",
   "execution_count": 3,
   "metadata": {},
   "outputs": [
    {
     "name": "stdout",
     "output_type": "stream",
     "text": [
      "<class 'pandas.core.frame.DataFrame'>\n",
      "RangeIndex: 9994 entries, 0 to 9993\n",
      "Data columns (total 21 columns):\n",
      " #   Column         Non-Null Count  Dtype  \n",
      "---  ------         --------------  -----  \n",
      " 0   row_id         9994 non-null   int64  \n",
      " 1   order_id       9994 non-null   object \n",
      " 2   order_date     9994 non-null   object \n",
      " 3   ship_date      9994 non-null   object \n",
      " 4   ship_mode      9994 non-null   object \n",
      " 5   customer_id    9994 non-null   object \n",
      " 6   customer_name  9994 non-null   object \n",
      " 7   segment        9994 non-null   object \n",
      " 8   country        9994 non-null   object \n",
      " 9   city           9994 non-null   object \n",
      " 10  state          9994 non-null   object \n",
      " 11  postal_code    9994 non-null   int64  \n",
      " 12  region         9994 non-null   object \n",
      " 13  product_id     9994 non-null   object \n",
      " 14  category       9994 non-null   object \n",
      " 15  subcategory    9994 non-null   object \n",
      " 16  product_name   9994 non-null   object \n",
      " 17  sales          9994 non-null   float64\n",
      " 18  quantity       9994 non-null   int64  \n",
      " 19  discount       9994 non-null   float64\n",
      " 20  profit         9994 non-null   float64\n",
      "dtypes: float64(3), int64(3), object(15)\n",
      "memory usage: 1.6+ MB\n"
     ]
    }
   ],
   "source": [
    "df.info()"
   ]
  },
  {
   "cell_type": "code",
   "execution_count": 4,
   "metadata": {},
   "outputs": [],
   "source": [
    "df['order_date'] = pd.to_datetime(df['order_date'])\n",
    "df['ship_date'] = pd.to_datetime(df['ship_date'])"
   ]
  },
  {
   "cell_type": "code",
   "execution_count": 6,
   "metadata": {},
   "outputs": [
    {
     "data": {
      "text/plain": [
       "2017"
      ]
     },
     "execution_count": 6,
     "metadata": {},
     "output_type": "execute_result"
    }
   ],
   "source": [
    "max(df['order_date'].dt.year)"
   ]
  }
 ],
 "metadata": {
  "kernelspec": {
   "display_name": "latihan streamlit",
   "language": "python",
   "name": "python3"
  },
  "language_info": {
   "codemirror_mode": {
    "name": "ipython",
    "version": 3
   },
   "file_extension": ".py",
   "mimetype": "text/x-python",
   "name": "python",
   "nbconvert_exporter": "python",
   "pygments_lexer": "ipython3",
   "version": "3.8.8"
  },
  "orig_nbformat": 4
 },
 "nbformat": 4,
 "nbformat_minor": 2
}
